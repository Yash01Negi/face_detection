{
 "cells": [
  {
   "cell_type": "code",
   "execution_count": 7,
   "metadata": {},
   "outputs": [],
   "source": [
    "import cv2 as cv\n",
    "import numpy as np"
   ]
  },
  {
   "cell_type": "code",
   "execution_count": 8,
   "metadata": {},
   "outputs": [],
   "source": [
    "capture = cv.VideoCapture(0) #use interger 0, 1, 2, 3 etc when u use a webcam or laptop cam\n",
    "# videos will be read using a while loop so that we get the videos frame by frame\n",
    "capture.set(3, 640) #setting width with id 3 as 640\\\n",
    "capture.set(4, 480)#setting height with id 4 as 480\n",
    "capture.set(10, 100)#changing brightness, id is 10\n",
    "while True:\n",
    "    isTrue, frame = capture.read() #isTrue to check if reading was success or not and frame will give the current frame\n",
    "    #the error -215 is popped beacause there wasnt any audio with the file \n",
    "    gray = cv.cvtColor(frame, cv.COLOR_BGR2GRAY)   \n",
    "    # cv.imshow('Video', gray)\n",
    "    haar_cascade = cv.CascadeClassifier(\"haar_face.xml\")\n",
    "\n",
    "    face_rect = haar_cascade.detectMultiScale(gray, scaleFactor = 1.1, minNeighbors = 3)#play with the 2 hyperparameters for more accuracy, returns a list containing the coordinates of the face found, and len gives the no. of faces found\n",
    "\n",
    "    # print(len(face_rect))\n",
    "    for (x,y ,w, h) in face_rect:\n",
    "        cv.rectangle(frame, (x,y), (x+w, y+h), (0, 255, 0), thickness=1)\n",
    "    cv.imshow(\"Detected Face\", frame)\n",
    "    if cv.waitKey(20) & 0xFF==ord('d'): #if u press d the video breaks\n",
    "        break\n",
    "capture.release()\n",
    "cv.destroyAllWindows()"
   ]
  },
  {
   "cell_type": "code",
   "execution_count": null,
   "metadata": {},
   "outputs": [],
   "source": []
  }
 ],
 "metadata": {
  "kernelspec": {
   "display_name": "Python 3.10.4 64-bit",
   "language": "python",
   "name": "python3"
  },
  "language_info": {
   "codemirror_mode": {
    "name": "ipython",
    "version": 3
   },
   "file_extension": ".py",
   "mimetype": "text/x-python",
   "name": "python",
   "nbconvert_exporter": "python",
   "pygments_lexer": "ipython3",
   "version": "3.10.4"
  },
  "orig_nbformat": 4,
  "vscode": {
   "interpreter": {
    "hash": "8c48df5ed182b1b5acf402f77d9485b59e0ebb24b2ddd45837c36da60e400309"
   }
  }
 },
 "nbformat": 4,
 "nbformat_minor": 2
}
